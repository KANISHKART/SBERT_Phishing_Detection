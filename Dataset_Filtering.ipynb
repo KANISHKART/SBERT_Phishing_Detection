{
 "cells": [
  {
   "cell_type": "markdown",
   "id": "e6477689-c7d1-408b-8a84-4b66e90ff5da",
   "metadata": {},
   "source": [
    "# Importing Libraries"
   ]
  },
  {
   "cell_type": "code",
   "execution_count": 1,
   "id": "bc8dd97e-15d6-40fd-937e-83554b7ef264",
   "metadata": {},
   "outputs": [],
   "source": [
    "import pandas as pd\n",
    "import numpy as np\n",
    "import seaborn as sns\n",
    "import matplotlib.pyplot as plt"
   ]
  },
  {
   "cell_type": "markdown",
   "id": "e17facee-3de5-4593-ae8a-734d1ab02e42",
   "metadata": {},
   "source": [
    "# Dataset Preparation"
   ]
  },
  {
   "cell_type": "code",
   "execution_count": 2,
   "id": "f1f0b482-c369-466b-8b08-38332239f6d0",
   "metadata": {},
   "outputs": [],
   "source": [
    "df1=pd.read_csv(\"D:\\\\Learnings\\\\Masters_TUD\\\\Dissertation\\\\Datasets\\\\Kaggle\\\\malicious_phish.csv\")"
   ]
  },
  {
   "cell_type": "code",
   "execution_count": 3,
   "id": "d9964255-fe93-439c-bf45-499178a08c26",
   "metadata": {},
   "outputs": [
    {
     "data": {
      "text/plain": [
       "(651191, 2)"
      ]
     },
     "execution_count": 3,
     "metadata": {},
     "output_type": "execute_result"
    }
   ],
   "source": [
    "df1.shape"
   ]
  },
  {
   "cell_type": "code",
   "execution_count": 4,
   "id": "f3ab05c7-3272-4f57-a968-ba605a00bf03",
   "metadata": {},
   "outputs": [],
   "source": [
    "df2_phish=pd.read_csv(\"D:\\\\Learnings\\\\Masters_TUD\\\\Dissertation\\\\Datasets\\\\Mendeley\\\\Phishing URLs.csv\")"
   ]
  },
  {
   "cell_type": "code",
   "execution_count": 5,
   "id": "fee480bd-72a2-4d55-bbbe-bb7d57f27566",
   "metadata": {},
   "outputs": [],
   "source": [
    "df2_mixed=pd.read_csv(\"D:\\\\Learnings\\\\Masters_TUD\\\\Dissertation\\\\Datasets\\\\Mendeley\\\\URL dataset.csv\")"
   ]
  },
  {
   "cell_type": "code",
   "execution_count": 6,
   "id": "b86f80e2-86eb-4bdd-80b1-40e220748be3",
   "metadata": {},
   "outputs": [],
   "source": [
    "df2=pd.concat([df2_phish,df2_mixed])"
   ]
  },
  {
   "cell_type": "code",
   "execution_count": 7,
   "id": "e6dc4901-82a2-4cb6-bb22-3eea53233003",
   "metadata": {},
   "outputs": [
    {
     "data": {
      "text/plain": [
       "(609421, 2)"
      ]
     },
     "execution_count": 7,
     "metadata": {},
     "output_type": "execute_result"
    }
   ],
   "source": [
    "df2.shape"
   ]
  },
  {
   "cell_type": "code",
   "execution_count": 8,
   "id": "953feddd-1f5a-43c6-908a-4c47cae90e1a",
   "metadata": {},
   "outputs": [],
   "source": [
    "df_main=pd.concat([df1,df2])"
   ]
  },
  {
   "cell_type": "code",
   "execution_count": 9,
   "id": "ea50b3e4-f1a9-40e9-87fb-1e22f1b40193",
   "metadata": {},
   "outputs": [
    {
     "data": {
      "text/plain": [
       "(1260612, 2)"
      ]
     },
     "execution_count": 9,
     "metadata": {},
     "output_type": "execute_result"
    }
   ],
   "source": [
    "df_main.shape"
   ]
  },
  {
   "cell_type": "code",
   "execution_count": 10,
   "id": "1429e22a-5452-4448-a64c-eb862fc17d8d",
   "metadata": {},
   "outputs": [],
   "source": [
    "df_main = df_main.drop_duplicates()"
   ]
  },
  {
   "cell_type": "code",
   "execution_count": 11,
   "id": "c25a0682-34bf-4966-8210-15cd0e422c07",
   "metadata": {},
   "outputs": [
    {
     "data": {
      "text/plain": [
       "(1144961, 2)"
      ]
     },
     "execution_count": 11,
     "metadata": {},
     "output_type": "execute_result"
    }
   ],
   "source": [
    "df_main.shape"
   ]
  },
  {
   "cell_type": "code",
   "execution_count": 12,
   "id": "e9a056be-f402-4c53-9e71-e189eb5bb30c",
   "metadata": {},
   "outputs": [
    {
     "data": {
      "text/plain": [
       "type\n",
       "benign        773818\n",
       "phishing      252190\n",
       "defacement     95308\n",
       "malware        23645\n",
       "Name: count, dtype: int64"
      ]
     },
     "execution_count": 12,
     "metadata": {},
     "output_type": "execute_result"
    }
   ],
   "source": [
    "df_main['type'].value_counts()"
   ]
  },
  {
   "cell_type": "code",
   "execution_count": 13,
   "id": "8edc5ea2-5adc-418e-9be1-e91b546583d1",
   "metadata": {},
   "outputs": [],
   "source": [
    "df_main = df_main[~df_main['type'].isin(['defacement', 'malware'])]"
   ]
  },
  {
   "cell_type": "code",
   "execution_count": 15,
   "id": "88e06b39-cbbe-4fba-8a18-d1413d5cf6ef",
   "metadata": {},
   "outputs": [
    {
     "data": {
      "text/plain": [
       "(1026008, 2)"
      ]
     },
     "execution_count": 15,
     "metadata": {},
     "output_type": "execute_result"
    }
   ],
   "source": [
    "df_main.shape"
   ]
  },
  {
   "cell_type": "code",
   "execution_count": 16,
   "id": "15077660-8485-47c5-9784-f615788db1d9",
   "metadata": {},
   "outputs": [],
   "source": [
    "df_main = df_main[~df_main['url'].str.contains('bitly|tinyurl', case=False, na=False)]"
   ]
  },
  {
   "cell_type": "code",
   "execution_count": 17,
   "id": "c6aa0bb8-0820-47fd-85e6-a242a00b99b9",
   "metadata": {},
   "outputs": [],
   "source": [
    "df_main['url'] = df_main['url'].str.strip(\"'\")"
   ]
  },
  {
   "cell_type": "code",
   "execution_count": 18,
   "id": "f610e69e-371d-489e-8d28-f773f5e596f6",
   "metadata": {},
   "outputs": [
    {
     "data": {
      "text/plain": [
       "(1025020, 2)"
      ]
     },
     "execution_count": 18,
     "metadata": {},
     "output_type": "execute_result"
    }
   ],
   "source": [
    "df_main.shape"
   ]
  },
  {
   "cell_type": "code",
   "execution_count": 19,
   "id": "12116974-df79-43f1-8f91-f8335ede6e10",
   "metadata": {},
   "outputs": [
    {
     "data": {
      "text/plain": [
       "type\n",
       "benign      773707\n",
       "phishing    251313\n",
       "Name: count, dtype: int64"
      ]
     },
     "execution_count": 19,
     "metadata": {},
     "output_type": "execute_result"
    }
   ],
   "source": [
    "df_main['type'].value_counts()"
   ]
  },
  {
   "cell_type": "markdown",
   "id": "e0828b7f-7001-4e77-8f95-92af84a191ee",
   "metadata": {},
   "source": [
    "## Dataset Filtering"
   ]
  },
  {
   "cell_type": "code",
   "execution_count": null,
   "id": "4f57ab2e-48c8-4533-82b9-cd403ffb2517",
   "metadata": {},
   "outputs": [],
   "source": [
    "# Choosing only 400k URLs from original 1000k dataset \n",
    "def sample_data(df, phishing_size, benign_size):\n",
    "    phishing_samples = df[df['type'] == 1].sample(n=phishing_size, random_state=42)\n",
    "    benign_samples = df[df['type'] == 0].sample(n=benign_size, random_state=42)\n",
    "    return pd.concat([phishing_samples, benign_samples]).sample(frac=1).reset_index(drop=True)"
   ]
  },
  {
   "cell_type": "code",
   "execution_count": null,
   "id": "be650640-8eb3-4147-b4b8-a73d943a5a55",
   "metadata": {},
   "outputs": [],
   "source": [
    "sampled_df_400k = sample_data(df_main, phishing_size=210000, benign_size=210000)"
   ]
  },
  {
   "cell_type": "markdown",
   "id": "7d5eb62b-7b76-4cb7-83dd-c9f79a208406",
   "metadata": {},
   "source": [
    "## inclusion of Open phish data"
   ]
  },
  {
   "cell_type": "code",
   "execution_count": null,
   "id": "ec5516bb-b0ec-4bbc-892c-2bac65d3e254",
   "metadata": {},
   "outputs": [],
   "source": [
    "df3=pd.read_csv(\"D:\\\\Learnings\\\\Masters_TUD\\\\Dissertation\\\\Datasets\\\\OpenPhish\\\\openPhish.csv\")"
   ]
  },
  {
   "cell_type": "code",
   "execution_count": null,
   "id": "d92129bf-34ca-4a54-8b71-e90a0b3e62f4",
   "metadata": {},
   "outputs": [],
   "source": [
    "sampled_df_400k=pd.concat([sampled_df_400k, df3])"
   ]
  },
  {
   "cell_type": "code",
   "execution_count": 20,
   "id": "6ee27c2a-357d-4afa-87f9-ab75bae6393c",
   "metadata": {},
   "outputs": [
    {
     "name": "stdout",
     "output_type": "stream",
     "text": [
      "(422000, 2)\n"
     ]
    }
   ],
   "source": [
    "sampled_df_400k.shape"
   ]
  },
  {
   "cell_type": "markdown",
   "id": "f1ba53ed-a164-44c8-ad3a-834bb5781ac5",
   "metadata": {},
   "source": [
    "## Saving final dataset"
   ]
  },
  {
   "cell_type": "code",
   "execution_count": null,
   "id": "d7536060-d66a-4f3e-bf3a-ca10c0c8f0cc",
   "metadata": {},
   "outputs": [],
   "source": [
    "sampled_df_400k.to_csv(\"D:\\\\Learnings\\\\Masters_TUD\\\\Dissertation\\\\Datasets\\\\S_BERT_Phishing_Dataset.csv\", index=False)"
   ]
  },
  {
   "cell_type": "code",
   "execution_count": 14,
   "id": "c4b90a9b-d09e-4fcb-a1d3-ea60e222a442",
   "metadata": {},
   "outputs": [
    {
     "ename": "NameError",
     "evalue": "name 'df' is not defined",
     "output_type": "error",
     "traceback": [
      "\u001b[1;31m---------------------------------------------------------------------------\u001b[0m",
      "\u001b[1;31mNameError\u001b[0m                                 Traceback (most recent call last)",
      "Cell \u001b[1;32mIn[14], line 3\u001b[0m\n\u001b[0;32m      1\u001b[0m \u001b[38;5;28;01mimport\u001b[39;00m \u001b[38;5;21;01mmatplotlib\u001b[39;00m\u001b[38;5;21;01m.\u001b[39;00m\u001b[38;5;21;01mpyplot\u001b[39;00m \u001b[38;5;28;01mas\u001b[39;00m \u001b[38;5;21;01mplt\u001b[39;00m\n\u001b[1;32m----> 3\u001b[0m df_visual \u001b[38;5;241m=\u001b[39m \u001b[43mdf\u001b[49m\u001b[38;5;241m.\u001b[39mdrop(columns\u001b[38;5;241m=\u001b[39m[\u001b[38;5;124m'\u001b[39m\u001b[38;5;124murl\u001b[39m\u001b[38;5;124m'\u001b[39m, \u001b[38;5;124m'\u001b[39m\u001b[38;5;124mtype\u001b[39m\u001b[38;5;124m'\u001b[39m,\u001b[38;5;124m'\u001b[39m\u001b[38;5;124membeddings\u001b[39m\u001b[38;5;124m'\u001b[39m])\n\u001b[0;32m      5\u001b[0m plt\u001b[38;5;241m.\u001b[39mfigure(figsize\u001b[38;5;241m=\u001b[39m(\u001b[38;5;241m14\u001b[39m, \u001b[38;5;241m12\u001b[39m))\n\u001b[0;32m      6\u001b[0m sns\u001b[38;5;241m.\u001b[39mheatmap(df_visual\u001b[38;5;241m.\u001b[39mcorr(), annot\u001b[38;5;241m=\u001b[39m\u001b[38;5;28;01mTrue\u001b[39;00m, cmap\u001b[38;5;241m=\u001b[39m\u001b[38;5;124m'\u001b[39m\u001b[38;5;124mcoolwarm\u001b[39m\u001b[38;5;124m'\u001b[39m, linewidths\u001b[38;5;241m=\u001b[39m\u001b[38;5;241m0.5\u001b[39m)\n",
      "\u001b[1;31mNameError\u001b[0m: name 'df' is not defined"
     ]
    }
   ],
   "source": [
    "import matplotlib.pyplot as plt\n",
    "\n",
    "df_visual = df.drop(columns=['url', 'type','embeddings'])\n",
    "\n",
    "plt.figure(figsize=(14, 12))\n",
    "sns.heatmap(df_visual.corr(), annot=True, cmap='coolwarm', linewidths=0.5)\n",
    "plt.title('Feature Correlation Heatmap')\n",
    "plt.show()"
   ]
  },
  {
   "cell_type": "code",
   "execution_count": 70,
   "id": "79edab8d-bbc0-43c7-8c35-6b9f254cecf3",
   "metadata": {},
   "outputs": [],
   "source": [
    "import pandas as pd\n",
    "\n",
    "# Step 2: Define the bins (ranges) for URL lengths\n",
    "bins = [0,10, 30, 50, 100, 200, 300, 400, 500, 1000, float('inf')]\n",
    "labels = ['0-10','10-30','30-50', '51-100', '101-200', '201-300', '301-400', '401-500', '501-1000', '1001+']\n",
    "\n",
    "# Step 3: Categorize the URLs into the defined bins\n",
    "df['url_length_range'] = pd.cut(df['url_length'], bins=bins, labels=labels)"
   ]
  },
  {
   "cell_type": "code",
   "execution_count": 71,
   "id": "64b6fb2f-5623-42c4-9648-99467683cc1d",
   "metadata": {},
   "outputs": [
    {
     "data": {
      "image/png": "[encoded data removed]",
      "text/plain": [
       "<Figure size 1000x600 with 1 Axes>"
      ]
     },
     "metadata": {},
     "output_type": "display_data"
    }
   ],
   "source": [
    "import matplotlib.pyplot as plt\n",
    "\n",
    "# Step 4: Count the number of URLs in each range\n",
    "url_length_distribution = df['url_length_range'].value_counts().sort_index()\n",
    "\n",
    "# Step 5: Plot the bar chart\n",
    "plt.figure(figsize=(10, 6))\n",
    "plt.bar(url_length_distribution.index, url_length_distribution.values, color='darkblue')\n",
    "plt.title('Distribution of URL Lengths')\n",
    "plt.xlabel('URL Length Range')\n",
    "plt.ylabel('Number of URLs')\n",
    "plt.xticks(rotation=45)  # Rotate x-axis labels for better readability\n",
    "plt.show()"
   ]
  },
  {
   "cell_type": "code",
   "execution_count": 23,
   "id": "77be2e89-0c43-4953-b44d-a682bccf22c4",
   "metadata": {},
   "outputs": [
    {
     "name": "stdout",
     "output_type": "stream",
     "text": [
      "<class 'pandas.core.frame.DataFrame'>\n",
      "RangeIndex: 906598 entries, 0 to 906597\n",
      "Data columns (total 19 columns):\n",
      " #   Column                    Non-Null Count   Dtype \n",
      "---  ------                    --------------   ----- \n",
      " 0   url                       906598 non-null  object\n",
      " 1   type                      906598 non-null  int32 \n",
      " 2   url_length                906598 non-null  int64 \n",
      " 3   domain_length             906598 non-null  int64 \n",
      " 4   path_length               906598 non-null  int64 \n",
      " 5   num_subdomains            906598 non-null  int64 \n",
      " 6   subdomain_length          906598 non-null  int64 \n",
      " 7   path_depth                906598 non-null  int64 \n",
      " 8   has_file_extension        906598 non-null  int64 \n",
      " 9   equal_count               906598 non-null  int64 \n",
      " 10  redirects                 906598 non-null  int64 \n",
      " 11  query_param_count         906598 non-null  int64 \n",
      " 12  dot_char_count            906598 non-null  int64 \n",
      " 13  hyphen_char_count         906598 non-null  int64 \n",
      " 14  tld_domain_length         906598 non-null  int64 \n",
      " 15  space_char_count          906598 non-null  int64 \n",
      " 16  www_count                 906598 non-null  int64 \n",
      " 17  http_count                906598 non-null  int64 \n",
      " 18  suspicious_path_keywords  906598 non-null  int64 \n",
      "dtypes: int32(1), int64(17), object(1)\n",
      "memory usage: 128.0+ MB\n"
     ]
    }
   ],
   "source": [
    "# checking for information and null values in dataset\n",
    "df.info()"
   ]
  },
  {
   "cell_type": "code",
   "execution_count": null,
   "id": "cbe6b3a5-42a3-4474-8d1d-a0f97e75abd1",
   "metadata": {},
   "outputs": [],
   "source": [
    "def objective(trial):\n",
    "  # Determine the hyperperatemers and their value ranges\n",
    "  learning_rate = trial.suggest_float(\"learning_rate\", 0.01, 0.1)\n",
    "  num_leaves = trial.suggest_int(\"num_leaves\", 2, 256)\n",
    "  max_depth = trial.suggest_int(\"max_depth\", -1, 50)\n",
    "  min_child_samples = trial.suggest_int(\"min_child_samples\", 5, 100)\n",
    "  subsample = trial.suggest_float(\"subsample\", 0.5, 1.0)\n",
    "  colsample_bytree = trial.suggest_float(\"colsample_bytree\", 0.5, 1.0)\n",
    "  n_estimators = trial.suggest_int(\"n_estimators\", 100, 1000)\n",
    "  \n",
    "  # Create and train the model\n",
    "  model = LGBMClassifier(\n",
    "  learning_rate=learning_rate,\n",
    "  num_leaves=num_leaves,\n",
    "  max_depth=max_depth,\n",
    "  min_child_samples=min_child_samples,\n",
    "  subsample=subsample,\n",
    "  colsample_bytree=colsample_bytree,\n",
    "  n_estimators=n_estimators,\n",
    "  random_state=42\n",
    "  )\n",
    "  model.fit(X_train, y_train)\n",
    "  \n",
    "  # Evaluate model and return the metric\n",
    "  clf_lgbm_pred = model.predict(X_test)\n",
    "  accuracy = metrics.accuracy_score(y_test, clf_lgbm_pred)\n",
    "  return accuracy"
   ]
  },
  {
   "cell_type": "code",
   "execution_count": null,
   "id": "b92bfefa-3363-4d4c-baa3-e4f789f7dd99",
   "metadata": {},
   "outputs": [],
   "source": [
    "study = optuna.create_study(direction=\"maximize\")\n",
    "study.optimize(objective, n_trials=10)\n",
    "print(\"Best trial:\")\n",
    "print(\" Value: {}\".format(study.best_trial.value))\n",
    "print(\" Params: {}\".format(study.best_trial.params))"
   ]
  }
 ],
 "metadata": {
  "kernelspec": {
   "display_name": "Python 3 (ipykernel)",
   "language": "python",
   "name": "python3"
  },
  "language_info": {
   "codemirror_mode": {
    "name": "ipython",
    "version": 3
   },
   "file_extension": ".py",
   "mimetype": "text/x-python",
   "name": "python",
   "nbconvert_exporter": "python",
   "pygments_lexer": "ipython3",
   "version": "3.11.4"
  }
 },
 "nbformat": 4,
 "nbformat_minor": 5
}
